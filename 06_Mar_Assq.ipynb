{
 "cells": [
  {
   "cell_type": "code",
   "execution_count": 1,
   "id": "e49de826",
   "metadata": {},
   "outputs": [],
   "source": [
    "# Ans.1:- Statitics is the science of collecting, organizing, summarizing and analysing of data. "
   ]
  },
  {
   "cell_type": "code",
   "execution_count": 2,
   "id": "b7c3cb3b",
   "metadata": {},
   "outputs": [],
   "source": [
    "# Ans.2:- Two types os statitics, Descriptive stat and Inferential stat.  Descriptive stat consists of\n",
    "# organizing and summarizing of data. Example - collecting height of student of class. calculating aveg\n",
    "# height, highest students on a psrticular height..etc.\n",
    "\n",
    "# Inferential stat - Analysing the d ata and come to conclusion. Ex - Does avg of student of a class is same like \n",
    "# Avg height of student of school."
   ]
  },
  {
   "cell_type": "code",
   "execution_count": 3,
   "id": "fcb67151",
   "metadata": {},
   "outputs": [],
   "source": [
    "#Ans.3:- Two types of data.. Qualitative and Quantitavie data. \n",
    "\n",
    "# Quantitative data belongs to number where we can perform mathemmatical operation. It's two types...\n",
    "# Discretive (Ex- No of kids you have) and Continiuous (Height, Weight etc)\n",
    "\n",
    "# Qualitative  data belongs to categorical where we can not perform mathemmatical operation. \n",
    "# It's two types-- Nominal (Ex- Gend of your kids) and Ordinal (Ex- Behavior of your kids)."
   ]
  },
  {
   "cell_type": "code",
   "execution_count": 4,
   "id": "42395d35",
   "metadata": {},
   "outputs": [],
   "source": [
    "#Ans.4:-\n",
    "#i. Grading in Exam - Qualitative data type\n",
    "#ii. Color of mangoes -  Qualitative data type\n",
    "#iii. Height of a class -  Quantitative data type\n",
    "#iv. No of mangoes export - Quantitative data type"
   ]
  },
  {
   "cell_type": "code",
   "execution_count": 6,
   "id": "00e87685",
   "metadata": {},
   "outputs": [],
   "source": [
    "#Ans.5:- Level of measurement process of measuring the data with different scales based on nature of\n",
    "# the data.\n",
    "# Nominal scale - Gender of your kids\n",
    "# Ordinal scale - Behavior of your kid.. Excellent, very good, good, bad\n",
    "# Interval scale - Height of kid, Kid's body Temp\n",
    "# Ratio scale - Marks of kids"
   ]
  },
  {
   "cell_type": "code",
   "execution_count": 7,
   "id": "6a60eaba",
   "metadata": {},
   "outputs": [],
   "source": [
    "#Ans.6:- Level of measurement is variable at which you measure data and how you analyse the date.\n",
    "# Example - Marks score by students, it's fall on ration scale. 90-100 falls on \"O-plus\", 80-90 on \"A-plus\",\n",
    "# 70-80 on \"A-Grade\"."
   ]
  },
  {
   "cell_type": "code",
   "execution_count": 1,
   "id": "6b8f6a71",
   "metadata": {},
   "outputs": [],
   "source": [
    "#Ans.7:- Nominal data is a categirical data normally name,gender. Ordinal data is also a categorical data\n",
    "# but naturally indicates order or rank."
   ]
  },
  {
   "cell_type": "code",
   "execution_count": 2,
   "id": "a590978f",
   "metadata": {},
   "outputs": [],
   "source": [
    "# Ans.8:- BOX chart, Bar chart, Line chart used to display data in term of range"
   ]
  },
  {
   "cell_type": "code",
   "execution_count": 3,
   "id": "23ab0382",
   "metadata": {},
   "outputs": [],
   "source": [
    "#Ans.9:- Descriptive stat tells methods how ot organizing and summarizing of data. Example - collecting height of student of class. calculating aveg\n",
    "# height, highest students on a psrticular height..etc.\n",
    "# Statistical methods used as Mean, Median, mode, Variance, Standard Deviation.\n",
    "\n",
    "# Inferential stat - Methods to analyse the data and come to conclusion. Ex - Does avg of student of a class is same like \n",
    "# Avg height of student of school.\n",
    "# Methods used as Z-Test, T-Test, P-Value, HYpothesis Test"
   ]
  },
  {
   "cell_type": "code",
   "execution_count": null,
   "id": "8f71d21d",
   "metadata": {},
   "outputs": [],
   "source": [
    "# Ans,10:- Commen measure of central tendency iis mean, median and mode. Common measure of Variability\n",
    "# is standard deviation and Variance.\n",
    "\n",
    "# Ex - Let's weight of rice bag in kg is 10, 8, 7, 15, 10, 10,9,6,50,10\n",
    "# Mean is average = Sum of weight divided by number of bags(10) - 13.5 kg\n",
    "# Median is middle number - 10\n",
    "# Mode is number of occurance is 10.\n",
    "\n"
   ]
  }
 ],
 "metadata": {
  "kernelspec": {
   "display_name": "Python 3",
   "language": "python",
   "name": "python3"
  },
  "language_info": {
   "codemirror_mode": {
    "name": "ipython",
    "version": 3
   },
   "file_extension": ".py",
   "mimetype": "text/x-python",
   "name": "python",
   "nbconvert_exporter": "python",
   "pygments_lexer": "ipython3",
   "version": "3.8.8"
  }
 },
 "nbformat": 4,
 "nbformat_minor": 5
}
